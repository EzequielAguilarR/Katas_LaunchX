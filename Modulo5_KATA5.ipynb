{
 "cells": [
  {
   "cell_type": "markdown",
   "metadata": {},
   "source": [
    "# Ejercicio1 - Utilizar operadores aritméticos"
   ]
  },
  {
   "cell_type": "code",
   "execution_count": 3,
   "metadata": {},
   "outputs": [],
   "source": [
    "# Crear variables para almacenar las dos distancias\n",
    "# ¡Asegúrate de quitar las comas!\n",
    "\n",
    "Tierra = 149597870 #Primer planeta\n",
    "Jupiter = 778547200 #Segundo planeta"
   ]
  },
  {
   "cell_type": "code",
   "execution_count": 5,
   "metadata": {},
   "outputs": [
    {
     "name": "stdout",
     "output_type": "stream",
     "text": [
      "628949330\n",
      "390577533.93\n"
     ]
    }
   ],
   "source": [
    "# Calcular la distancia entre planetas\n",
    "\n",
    "DistanciaEnKm = Jupiter - Tierra\n",
    "print(DistanciaEnKm)\n",
    "\n",
    "DistanciaEnmi = DistanciaEnKm * 0.621\n",
    "print(DistanciaEnmi)"
   ]
  },
  {
   "cell_type": "markdown",
   "metadata": {},
   "source": [
    "# Ejercicio 2: convierte cadenas en números y usa valores absolutos"
   ]
  },
  {
   "cell_type": "code",
   "execution_count": 13,
   "metadata": {},
   "outputs": [],
   "source": [
    "# Almacenar las entradas del usuario\n",
    "#Pista: variable = input(\"¿Cuál es tu nombre?\")\n",
    "PrimerPlaneta = input('Introduzca la distancia desde el sol para el primer planeta en KM')\n",
    "SegundoPlaneta = input('Introduzca la distancia desde el sol para el segundo planeta en KM')\n",
    "#Otra forma de hacerlo print('El valor ingresado para el segundo es:', input('Introduzca la distancia desde el sol para el segundo planeta en KM'))"
   ]
  },
  {
   "cell_type": "code",
   "execution_count": 14,
   "metadata": {},
   "outputs": [],
   "source": [
    "# Convierte las cadenas de ambos planetas a números enteros\n",
    "PrimerPlaneta = int(PrimerPlaneta)\n",
    "SegundoPlaneta = int(SegundoPlaneta)"
   ]
  },
  {
   "cell_type": "code",
   "execution_count": 15,
   "metadata": {},
   "outputs": [
    {
     "name": "stdout",
     "output_type": "stream",
     "text": [
      "4437200000\n",
      "2755501200.0\n"
     ]
    }
   ],
   "source": [
    "# Realizar el cálculo y determinar el valor absoluto\n",
    "Distanciakm = SegundoPlaneta - PrimerPlaneta\n",
    "print(Distanciakm)\n",
    "\n",
    "# Convertir de KM a Millas\n",
    "Distanciami = Distanciakm * 0.621\n",
    "print(abs(Distanciami))"
   ]
  }
 ],
 "metadata": {
  "interpreter": {
   "hash": "669f5abd92f1a410df15b0643b9f42360e277a412fc08ae8bc7d7911cf7e8f3d"
  },
  "kernelspec": {
   "display_name": "Python 3.10.2 64-bit",
   "language": "python",
   "name": "python3"
  },
  "language_info": {
   "codemirror_mode": {
    "name": "ipython",
    "version": 3
   },
   "file_extension": ".py",
   "mimetype": "text/x-python",
   "name": "python",
   "nbconvert_exporter": "python",
   "pygments_lexer": "ipython3",
   "version": "3.10.2"
  },
  "orig_nbformat": 4
 },
 "nbformat": 4,
 "nbformat_minor": 2
}

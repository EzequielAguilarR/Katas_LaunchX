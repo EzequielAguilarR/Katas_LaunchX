{
 "cells": [
  {
   "cell_type": "markdown",
   "metadata": {},
   "source": [
    "# Ejercicio - Escribir declaraciones if, else, y elif"
   ]
  },
  {
   "cell_type": "code",
   "execution_count": 2,
   "metadata": {},
   "outputs": [
    {
     "name": "stdout",
     "output_type": "stream",
     "text": [
      "¡Alerta! ¡Un asteroide se acerca a la Tierra demasiado rápido!\n"
     ]
    }
   ],
   "source": [
    "# Añadir el código necesario para crear una variable que guarde la velocidad del asteroide.\n",
    "asteroide = 49\n",
    "# Escribe una expresión de prueba para calcular si necesita una advertencia.\n",
    "if asteroide > 25:\n",
    "    print('¡Alerta! ¡Un asteroide se acerca a la Tierra demasiado rápido!')\n",
    "# Agregue las instrucciones que se ejecutarán si la expresión de prueba es true o false.\n",
    "else:\n",
    "    print('¡Que tenga un bonito día!')\n",
    "\n"
   ]
  },
  {
   "cell_type": "code",
   "execution_count": 4,
   "metadata": {},
   "outputs": [
    {
     "name": "stdout",
     "output_type": "stream",
     "text": [
      "Today's date is: 2022-02-07\n"
     ]
    }
   ],
   "source": [
    "# Agrega el código para crear una variable para un asteroide que viaja a 19 km/s\n",
    "asteroide = 19\n",
    "# Escribe varias expresiones de prueba para determinar si puedes ver el rayo de luz desde la tierra\n",
    "if asteroide > 20:\n",
    "    print('Observa, acaba de pasar un satelite')\n",
    "elif asteroide == 20:\n",
    "    print('Observa, acaba de pasar un satelite')\n",
    "# Agrega las instrucciones que se ejecutarán si las expresiones de prueba son True o False\n",
    "else:\n",
    "    from datetime import date\n",
    "    print(\"Today's date is: \" + str(date.today()))"
   ]
  },
  {
   "cell_type": "markdown",
   "metadata": {},
   "source": [
    "# Ejercicio: Uso de operadores and y or"
   ]
  },
  {
   "cell_type": "code",
   "execution_count": 15,
   "metadata": {},
   "outputs": [
    {
     "name": "stdout",
     "output_type": "stream",
     "text": [
      "Observa, acaba de pasar un satelite\n"
     ]
    }
   ],
   "source": [
    "# Agrega el código para crear nuevas variables para la velocidad y el tamaño del asteroide\n",
    "velocidad_asteroide = 25\n",
    "tamano_asteroide = 40\n",
    "# Para probar el código, prueba con varias velocidades y tamaños\n",
    "#velocidad_asteroide = 40\n",
    "#tamano_asteroide = 30\n",
    "# Escribe varias expresiones de prueba o combinaciones de expresiones de prueba para determinar qué mensaje se debe enviar a Tierra.\n",
    "if velocidad_asteroide > 25 and tamano_asteroide > 25:\n",
    "    print('¡Alerta, posible impacto de asteroide en la superficie de la Tierra!')\n",
    "elif velocidad_asteroide >= 20:\n",
    "    print('Observa, acaba de pasar un satelite')\n",
    "elif tamano_asteroide < 25:\n",
    "    print('Que agradable día')\n",
    "else:\n",
    "    print('Que agradable día')"
   ]
  }
 ],
 "metadata": {
  "interpreter": {
   "hash": "faa42966850c6fdf54470ef605d88a00fea5052c9f6e05b520fd71651335de2c"
  },
  "kernelspec": {
   "display_name": "Python 3.10.2 64-bit (windows store)",
   "language": "python",
   "name": "python3"
  },
  "language_info": {
   "codemirror_mode": {
    "name": "ipython",
    "version": 3
   },
   "file_extension": ".py",
   "mimetype": "text/x-python",
   "name": "python",
   "nbconvert_exporter": "python",
   "pygments_lexer": "ipython3",
   "version": "3.10.2"
  },
  "orig_nbformat": 4
 },
 "nbformat": 4,
 "nbformat_minor": 2
}
